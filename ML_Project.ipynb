{
 "cells": [
  {
   "cell_type": "code",
   "execution_count": 3,
   "metadata": {
    "id": "-nmGozgGsGnL"
   },
   "outputs": [],
   "source": [
    "%%capture\n",
    "!pip install python_speech_features\n",
    "!gdown https://drive.google.com/uc?id=1m1yb-jGtUhMplUrNVRptctW87hQ7TcCO\n",
    "!unzip '/content/Copy of LUMS_FALL2020_PROJECT_DATA.zip'"
   ]
  },
  {
   "cell_type": "code",
   "execution_count": 132,
   "metadata": {
    "id": "5seD12M2sNyE"
   },
   "outputs": [],
   "source": [
    "import python_speech_features as mfcc\n",
    "from scipy.io.wavfile import read\n",
    "import numpy as np ,os ,pandas as pd\n",
    "import matplotlib.pyplot as plt"
   ]
  },
  {
   "cell_type": "code",
   "execution_count": 28,
   "metadata": {
    "id": "uF_q1xrpykgw"
   },
   "outputs": [],
   "source": [
    "Gender_Recognition = os.path.join(os.getcwd() ,'Gender_Recognition')\n",
    "Gender_Recognition_train = os.path.join(Gender_Recognition , 'Train') \n",
    "Gender_Recognition_test  = os.path.join(Gender_Recognition , 'Test')\n",
    "Gender_Recognition_valid = os.path.join(Gender_Recognition , 'Valid')"
   ]
  },
  {
   "cell_type": "code",
   "execution_count": 45,
   "metadata": {
    "id": "k4VUBmj54tre"
   },
   "outputs": [],
   "source": [
    "Speaker_Recognition = os.path.join(os.getcwd() ,'Speaker_Recognition')\n",
    "Speaker_Recognition_train = os.path.join(Speaker_Recognition , 'Train') \n",
    "Speaker_Recognition_test  = os.path.join(Speaker_Recognition , 'Test')\n",
    "Speaker_Recognition_valid = os.path.join(Speaker_Recognition , 'Valid')"
   ]
  },
  {
   "cell_type": "code",
   "execution_count": 242,
   "metadata": {
    "id": "xJXAWV-IzmtE"
   },
   "outputs": [],
   "source": [
    "def get_features(path):\n",
    "    sr, audio = read(path)\n",
    "    features = mfcc.mfcc(audio, sr, 0.025, 0.01, 13, appendEnergy = True)\n",
    "    return np.mean(features, axis=0)\n",
    "\n",
    "def Recognition(path ,Label_Type):\n",
    "  Paths = []\n",
    "  Lables = []\n",
    "  lis =  os.listdir(path)\n",
    "  \n",
    "  if Label_Type == 'Gender':\n",
    "    labels = list(map(lambda x:x[-1], lis))\n",
    "  elif Label_Type =='Speaker':\n",
    "    labels = list(map(lambda x:x[:-2], lis))\n",
    "  else:\n",
    "    print(\"Either speaker or Gender\")\n",
    "    return\n",
    "  \n",
    "  for i in zip(lis ,labels):\n",
    "    temp_path = os.path.join(path, i[0])\n",
    "    buzz = os.listdir(temp_path)\n",
    "    buzz = list(map(lambda x:os.path.join(temp_path ,x) ,buzz))\n",
    "    tuzz = len(buzz)*[i[1]]\n",
    "    Paths+=buzz\n",
    "    Lables+=tuzz\n",
    "  data = {'Data':Paths,'Label':Lables}\n",
    "  df = pd.DataFrame(data)\n",
    "  df['Features']  = df.Data.apply(get_features)\n",
    "  tempoooo = df['Features'].to_numpy()\n",
    "  XXX = np.zeros((len(df) ,13) ,dtype=np.float32)\n",
    "  YYY = np.zeros((len(df),len(df.Label.unique())))\n",
    "  \n",
    "  count = 0\n",
    "  for i in tempoooo:\n",
    "    XXX[count]=i\n",
    "    count+=1\n",
    "  \n",
    "  if Label_Type =='Gender':\n",
    "    count = 0\n",
    "    for i in df.Label:\n",
    "      if i=='M': # for male index 0 and female index 1 \n",
    "        YYY[count][0]=1\n",
    "      if i=='F':\n",
    "        YYY[count][1]=1\n",
    "      count+=1\n",
    "  return XXX ,YYY"
   ]
  },
  {
   "cell_type": "code",
   "execution_count": 245,
   "metadata": {
    "id": "KJcQfUgnsd-0"
   },
   "outputs": [],
   "source": [
    "train_x ,train_y = Recognition(Gender_Recognition_train ,'Gender')\n",
    "test_x ,test_y = Recognition(Gender_Recognition_test ,'Gender')\n",
    "valid_x ,valid_y = Recognition(Gender_Recognition_valid ,'Gender')"
   ]
  },
  {
   "cell_type": "code",
   "execution_count": 251,
   "metadata": {
    "id": "c3c4jgxAGcpO"
   },
   "outputs": [],
   "source": [
    "train_x = np.insert(train_x, 0, 1, axis=1)\n",
    "test_x = np.insert(test_x, 0, 1, axis=1)"
   ]
  },
  {
   "cell_type": "code",
   "execution_count": 252,
   "metadata": {
    "id": "MIoV3y0rsgy-"
   },
   "outputs": [],
   "source": [
    "def softmax(x):\n",
    "  expx = np.exp(x)\n",
    "  return expx / expx.sum(axis=1, keepdims=True)\n",
    "\n",
    "def cross_entropy_loss(y_pred, y_true):\n",
    "  return -(y_true * np.log(y_pred)).sum()"
   ]
  },
  {
   "cell_type": "code",
   "execution_count": 275,
   "metadata": {
    "id": "DYh7RrzQs_uz"
   },
   "outputs": [],
   "source": [
    "def Softmax_regression(x, y, alpha, num_iters):\n",
    "    m = x.shape[0]\n",
    "    _ , n = x.shape\n",
    "    _ , zzz = y.shape\n",
    "    theta = np.random.normal(0, 0.1, size=(n, zzz))\n",
    "    loss = list()\n",
    "    for i in range(num_iters):\n",
    "        h = softmax(x@theta) \n",
    "        J = cross_entropy_loss(h,y)\n",
    "        loss.append(J)\n",
    "        error  = h-y\n",
    "        theta = theta - alpha/m * (x.T @ error)\n",
    "    return loss, theta"
   ]
  },
  {
   "cell_type": "code",
   "execution_count": 276,
   "metadata": {
    "id": "jJJPp3tS8BP8"
   },
   "outputs": [],
   "source": [
    "loss, theta = Softmax_regression(train_x , train_y, 0.001,1000)"
   ]
  },
  {
   "cell_type": "code",
   "execution_count": 277,
   "metadata": {
    "colab": {
     "base_uri": "https://localhost:8080/",
     "height": 281
    },
    "id": "TbI8ti_bF1p3",
    "outputId": "c18d09a9-69e7-4be2-96f1-226ee067ae34"
   },
   "outputs": [
    {
     "data": {
      "text/plain": [
       "[<matplotlib.lines.Line2D at 0x7f605e0cd780>]"
      ]
     },
     "execution_count": 277,
     "metadata": {
      "tags": []
     },
     "output_type": "execute_result"
    },
    {
     "data": {
      "image/png": "[encoded data removed]",
      "text/plain": [
       "<Figure size 432x288 with 1 Axes>"
      ]
     },
     "metadata": {
      "needs_background": "light",
      "tags": []
     },
     "output_type": "display_data"
    }
   ],
   "source": [
    "plt.plot(loss)"
   ]
  },
  {
   "cell_type": "code",
   "execution_count": 294,
   "metadata": {
    "id": "3KhJIC0-In9U"
   },
   "outputs": [],
   "source": [
    "def pred(data , theta):\n",
    "  return softmax(data@theta)\n",
    "def test(test_x, test_y,theta):\n",
    "    y_pred = pred(test_x,theta)\n",
    "    y_hat = y_pred.argmax(axis=1)\n",
    "    test_y = test_y.argmax(axis=1)\n",
    "    accuracy = (y_hat == test_y).sum()/len(test_y)\n",
    "    return accuracy"
   ]
  },
  {
   "cell_type": "code",
   "execution_count": 300,
   "metadata": {
    "colab": {
     "base_uri": "https://localhost:8080/"
    },
    "id": "QcJeI1bjJAdm",
    "outputId": "70b1f549-cc65-4a4d-edad-9b33802f0680"
   },
   "outputs": [
    {
     "name": "stdout",
     "output_type": "stream",
     "text": [
      "Accuracy on test_data is = 0.8352941176470589\n"
     ]
    }
   ],
   "source": [
    "print('Accuracy on test_data is = {}'.format(test(test_x,test_y,theta)))"
   ]
  },
  {
   "cell_type": "code",
   "execution_count": null,
   "metadata": {
    "id": "HFqEKlQ8efuo"
   },
   "outputs": [],
   "source": []
  }
 ],
 "metadata": {
  "colab": {
   "collapsed_sections": [],
   "name": "ML_Project.ipynb",
   "provenance": []
  },
  "kernelspec": {
   "display_name": "Python 3",
   "language": "python",
   "name": "python3"
  },
  "language_info": {
   "codemirror_mode": {
    "name": "ipython",
    "version": 3
   },
   "file_extension": ".py",
   "mimetype": "text/x-python",
   "name": "python",
   "nbconvert_exporter": "python",
   "pygments_lexer": "ipython3",
   "version": "3.8.3"
  }
 },
 "nbformat": 4,
 "nbformat_minor": 4
}
